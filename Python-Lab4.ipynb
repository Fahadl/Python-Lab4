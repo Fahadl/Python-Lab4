{
 "cells": [
  {
   "cell_type": "markdown",
   "id": "3cd49b5c",
   "metadata": {},
   "source": [
    "### Function that accept a number and prints it by descending order, then -1 and again. Try it! "
   ]
  },
  {
   "cell_type": "code",
   "execution_count": 71,
   "id": "dfb8dba9",
   "metadata": {},
   "outputs": [
    {
     "name": "stdout",
     "output_type": "stream",
     "text": [
      "5 4 3 2 1 \n",
      "4 3 2 1 \n",
      "3 2 1 \n",
      "2 1 \n",
      "1 \n"
     ]
    }
   ],
   "source": [
    "def printNum(eNum):\n",
    "    m = eNum\n",
    "    for i in range(0,m):\n",
    "        for i in range(0,eNum):\n",
    "            if(eNum>0):\n",
    "                print(eNum,end=\" \")\n",
    "                eNum-=1\n",
    "            else:\n",
    "                break\n",
    "        print()\n",
    "        m-=1\n",
    "        eNum=m\n",
    "    \n",
    "printNum(5)"
   ]
  }
 ],
 "metadata": {
  "kernelspec": {
   "display_name": "Python 3 (ipykernel)",
   "language": "python",
   "name": "python3"
  },
  "language_info": {
   "codemirror_mode": {
    "name": "ipython",
    "version": 3
   },
   "file_extension": ".py",
   "mimetype": "text/x-python",
   "name": "python",
   "nbconvert_exporter": "python",
   "pygments_lexer": "ipython3",
   "version": "3.9.13"
  }
 },
 "nbformat": 4,
 "nbformat_minor": 5
}
